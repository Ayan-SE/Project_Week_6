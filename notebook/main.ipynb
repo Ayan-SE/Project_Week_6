{
 "cells": [
  {
   "cell_type": "code",
   "execution_count": 9,
   "metadata": {},
   "outputs": [
    {
     "name": "stdout",
     "output_type": "stream",
     "text": [
      "Collecting seaborn\n",
      "  Obtaining dependency information for seaborn from https://files.pythonhosted.org/packages/83/11/00d3c3dfc25ad54e731d91449895a79e4bf2384dc3ac01809010ba88f6d5/seaborn-0.13.2-py3-none-any.whl.metadata\n",
      "  Downloading seaborn-0.13.2-py3-none-any.whl.metadata (5.4 kB)\n",
      "Requirement already satisfied: numpy!=1.24.0,>=1.20 in c:\\users\\pc\\appdata\\local\\programs\\python\\python311\\lib\\site-packages (from seaborn) (2.2.0)\n",
      "Requirement already satisfied: pandas>=1.2 in c:\\users\\pc\\appdata\\local\\programs\\python\\python311\\lib\\site-packages (from seaborn) (2.2.3)\n",
      "Requirement already satisfied: matplotlib!=3.6.1,>=3.4 in c:\\users\\pc\\appdata\\local\\programs\\python\\python311\\lib\\site-packages (from seaborn) (3.9.3)\n",
      "Requirement already satisfied: contourpy>=1.0.1 in c:\\users\\pc\\appdata\\local\\programs\\python\\python311\\lib\\site-packages (from matplotlib!=3.6.1,>=3.4->seaborn) (1.3.1)\n",
      "Requirement already satisfied: cycler>=0.10 in c:\\users\\pc\\appdata\\local\\programs\\python\\python311\\lib\\site-packages (from matplotlib!=3.6.1,>=3.4->seaborn) (0.12.1)\n",
      "Requirement already satisfied: fonttools>=4.22.0 in c:\\users\\pc\\appdata\\local\\programs\\python\\python311\\lib\\site-packages (from matplotlib!=3.6.1,>=3.4->seaborn) (4.55.2)\n",
      "Requirement already satisfied: kiwisolver>=1.3.1 in c:\\users\\pc\\appdata\\local\\programs\\python\\python311\\lib\\site-packages (from matplotlib!=3.6.1,>=3.4->seaborn) (1.4.7)\n",
      "Requirement already satisfied: packaging>=20.0 in c:\\users\\pc\\appdata\\local\\programs\\python\\python311\\lib\\site-packages (from matplotlib!=3.6.1,>=3.4->seaborn) (24.2)\n",
      "Requirement already satisfied: pillow>=8 in c:\\users\\pc\\appdata\\local\\programs\\python\\python311\\lib\\site-packages (from matplotlib!=3.6.1,>=3.4->seaborn) (11.0.0)\n",
      "Requirement already satisfied: pyparsing>=2.3.1 in c:\\users\\pc\\appdata\\local\\programs\\python\\python311\\lib\\site-packages (from matplotlib!=3.6.1,>=3.4->seaborn) (3.2.0)\n",
      "Requirement already satisfied: python-dateutil>=2.7 in c:\\users\\pc\\appdata\\local\\programs\\python\\python311\\lib\\site-packages (from matplotlib!=3.6.1,>=3.4->seaborn) (2.9.0.post0)\n",
      "Requirement already satisfied: pytz>=2020.1 in c:\\users\\pc\\appdata\\local\\programs\\python\\python311\\lib\\site-packages (from pandas>=1.2->seaborn) (2024.2)\n",
      "Requirement already satisfied: tzdata>=2022.7 in c:\\users\\pc\\appdata\\local\\programs\\python\\python311\\lib\\site-packages (from pandas>=1.2->seaborn) (2025.1)\n",
      "Requirement already satisfied: six>=1.5 in c:\\users\\pc\\appdata\\local\\programs\\python\\python311\\lib\\site-packages (from python-dateutil>=2.7->matplotlib!=3.6.1,>=3.4->seaborn) (1.17.0)\n",
      "Downloading seaborn-0.13.2-py3-none-any.whl (294 kB)\n",
      "   ---------------------------------------- 0.0/294.9 kB ? eta -:--:--\n",
      "   ---------------------------------------- 0.0/294.9 kB ? eta -:--:--\n",
      "   - -------------------------------------- 10.2/294.9 kB ? eta -:--:--\n",
      "   ---- ---------------------------------- 30.7/294.9 kB 220.2 kB/s eta 0:00:02\n",
      "   ---- ---------------------------------- 30.7/294.9 kB 220.2 kB/s eta 0:00:02\n",
      "   ----- --------------------------------- 41.0/294.9 kB 196.9 kB/s eta 0:00:02\n",
      "   -------- ------------------------------ 61.4/294.9 kB 252.2 kB/s eta 0:00:01\n",
      "   ------------- ------------------------ 102.4/294.9 kB 347.8 kB/s eta 0:00:01\n",
      "   ------------- ------------------------ 102.4/294.9 kB 347.8 kB/s eta 0:00:01\n",
      "   ----------------- -------------------- 133.1/294.9 kB 342.3 kB/s eta 0:00:01\n",
      "   ------------------- ------------------ 153.6/294.9 kB 367.6 kB/s eta 0:00:01\n",
      "   --------------------- ---------------- 163.8/294.9 kB 339.1 kB/s eta 0:00:01\n",
      "   -------------------------- ----------- 204.8/294.9 kB 389.1 kB/s eta 0:00:01\n",
      "   ------------------------------- ------ 245.8/294.9 kB 419.1 kB/s eta 0:00:01\n",
      "   ------------------------------------ - 286.7/294.9 kB 466.2 kB/s eta 0:00:01\n",
      "   ------------------------------------ - 286.7/294.9 kB 466.2 kB/s eta 0:00:01\n",
      "   ------------------------------------ - 286.7/294.9 kB 466.2 kB/s eta 0:00:01\n",
      "   ------------------------------------ - 286.7/294.9 kB 466.2 kB/s eta 0:00:01\n",
      "   -------------------------------------- 294.9/294.9 kB 372.1 kB/s eta 0:00:00\n",
      "Installing collected packages: seaborn\n",
      "Successfully installed seaborn-0.13.2\n",
      "Note: you may need to restart the kernel to use updated packages.\n"
     ]
    },
    {
     "name": "stderr",
     "output_type": "stream",
     "text": [
      "\n",
      "[notice] A new release of pip is available: 23.2.1 -> 24.3.1\n",
      "[notice] To update, run: python.exe -m pip install --upgrade pip\n"
     ]
    }
   ],
   "source": [
    "pip install seaborn"
   ]
  },
  {
   "cell_type": "code",
   "execution_count": 11,
   "metadata": {},
   "outputs": [
    {
     "name": "stdout",
     "output_type": "stream",
     "text": [
      "c:\\Users\\pc\\Desktop\\Week 6\\Project_Week_6\\scripts\n",
      "c:\\Users\\pc\\Desktop\\Week 6\\Project_Week_6\n"
     ]
    }
   ],
   "source": [
    "# import libraries\n",
    "import os,sys\n",
    "\n",
    "# Get \n",
    "current_dir=os.getcwd()\n",
    "print(current_dir)\n",
    "\n",
    "#Get the parent directory\n",
    "parent_dir=os.path.dirname(current_dir)\n",
    "print(parent_dir)\n",
    "\n",
    "#Insert the path to the parent directory\n",
    "sys.path.insert(0,parent_dir)"
   ]
  },
  {
   "cell_type": "code",
   "execution_count": 23,
   "metadata": {},
   "outputs": [],
   "source": [
    "# import libraries\n",
    "import pandas as pd \n",
    "import numpy as np\n",
    "\n",
    "# import functions/class\n",
    "#from scripts.load_data import read_csv_file\n",
    "from scripts.load_data import read_csv_file\n",
    "from scripts.EDA import analyze_dataset,calculate_central_tendency,calculate_central_tendency,calculate_dispersion\n",
    "from scripts.EDA import analyze_distribution_shape, check_missing_values\n",
    "from scripts.EDA import impute_categorical_missing_with_placeholder,impute_categorical_missingValue_with_mode\n",
    "from scripts.EDA_Plot import visualize_distributions,analyze_categorical_features,correlation_analysis\n"
   ]
  },
  {
   "cell_type": "code",
   "execution_count": 13,
   "metadata": {},
   "outputs": [
    {
     "name": "stdout",
     "output_type": "stream",
     "text": [
      "Dataset loaded successfully from ../Data/Credit_data.csv\n"
     ]
    },
    {
     "data": {
      "text/html": [
       "<div>\n",
       "<style scoped>\n",
       "    .dataframe tbody tr th:only-of-type {\n",
       "        vertical-align: middle;\n",
       "    }\n",
       "\n",
       "    .dataframe tbody tr th {\n",
       "        vertical-align: top;\n",
       "    }\n",
       "\n",
       "    .dataframe thead th {\n",
       "        text-align: right;\n",
       "    }\n",
       "</style>\n",
       "<table border=\"1\" class=\"dataframe\">\n",
       "  <thead>\n",
       "    <tr style=\"text-align: right;\">\n",
       "      <th></th>\n",
       "      <th>TransactionId</th>\n",
       "      <th>BatchId</th>\n",
       "      <th>AccountId</th>\n",
       "      <th>SubscriptionId</th>\n",
       "      <th>CustomerId</th>\n",
       "      <th>CurrencyCode</th>\n",
       "      <th>CountryCode</th>\n",
       "      <th>ProviderId</th>\n",
       "      <th>ProductId</th>\n",
       "      <th>ProductCategory</th>\n",
       "      <th>ChannelId</th>\n",
       "      <th>Amount</th>\n",
       "      <th>Value</th>\n",
       "      <th>TransactionStartTime</th>\n",
       "      <th>PricingStrategy</th>\n",
       "      <th>FraudResult</th>\n",
       "    </tr>\n",
       "  </thead>\n",
       "  <tbody>\n",
       "    <tr>\n",
       "      <th>0</th>\n",
       "      <td>TransactionId_76871</td>\n",
       "      <td>BatchId_36123</td>\n",
       "      <td>AccountId_3957</td>\n",
       "      <td>SubscriptionId_887</td>\n",
       "      <td>CustomerId_4406</td>\n",
       "      <td>UGX</td>\n",
       "      <td>256</td>\n",
       "      <td>ProviderId_6</td>\n",
       "      <td>ProductId_10</td>\n",
       "      <td>airtime</td>\n",
       "      <td>ChannelId_3</td>\n",
       "      <td>1000.0</td>\n",
       "      <td>1000</td>\n",
       "      <td>2018-11-15T02:18:49Z</td>\n",
       "      <td>2</td>\n",
       "      <td>0</td>\n",
       "    </tr>\n",
       "    <tr>\n",
       "      <th>1</th>\n",
       "      <td>TransactionId_73770</td>\n",
       "      <td>BatchId_15642</td>\n",
       "      <td>AccountId_4841</td>\n",
       "      <td>SubscriptionId_3829</td>\n",
       "      <td>CustomerId_4406</td>\n",
       "      <td>UGX</td>\n",
       "      <td>256</td>\n",
       "      <td>ProviderId_4</td>\n",
       "      <td>ProductId_6</td>\n",
       "      <td>financial_services</td>\n",
       "      <td>ChannelId_2</td>\n",
       "      <td>-20.0</td>\n",
       "      <td>20</td>\n",
       "      <td>2018-11-15T02:19:08Z</td>\n",
       "      <td>2</td>\n",
       "      <td>0</td>\n",
       "    </tr>\n",
       "    <tr>\n",
       "      <th>2</th>\n",
       "      <td>TransactionId_26203</td>\n",
       "      <td>BatchId_53941</td>\n",
       "      <td>AccountId_4229</td>\n",
       "      <td>SubscriptionId_222</td>\n",
       "      <td>CustomerId_4683</td>\n",
       "      <td>UGX</td>\n",
       "      <td>256</td>\n",
       "      <td>ProviderId_6</td>\n",
       "      <td>ProductId_1</td>\n",
       "      <td>airtime</td>\n",
       "      <td>ChannelId_3</td>\n",
       "      <td>500.0</td>\n",
       "      <td>500</td>\n",
       "      <td>2018-11-15T02:44:21Z</td>\n",
       "      <td>2</td>\n",
       "      <td>0</td>\n",
       "    </tr>\n",
       "    <tr>\n",
       "      <th>3</th>\n",
       "      <td>TransactionId_380</td>\n",
       "      <td>BatchId_102363</td>\n",
       "      <td>AccountId_648</td>\n",
       "      <td>SubscriptionId_2185</td>\n",
       "      <td>CustomerId_988</td>\n",
       "      <td>UGX</td>\n",
       "      <td>256</td>\n",
       "      <td>ProviderId_1</td>\n",
       "      <td>ProductId_21</td>\n",
       "      <td>utility_bill</td>\n",
       "      <td>ChannelId_3</td>\n",
       "      <td>20000.0</td>\n",
       "      <td>21800</td>\n",
       "      <td>2018-11-15T03:32:55Z</td>\n",
       "      <td>2</td>\n",
       "      <td>0</td>\n",
       "    </tr>\n",
       "    <tr>\n",
       "      <th>4</th>\n",
       "      <td>TransactionId_28195</td>\n",
       "      <td>BatchId_38780</td>\n",
       "      <td>AccountId_4841</td>\n",
       "      <td>SubscriptionId_3829</td>\n",
       "      <td>CustomerId_988</td>\n",
       "      <td>UGX</td>\n",
       "      <td>256</td>\n",
       "      <td>ProviderId_4</td>\n",
       "      <td>ProductId_6</td>\n",
       "      <td>financial_services</td>\n",
       "      <td>ChannelId_2</td>\n",
       "      <td>-644.0</td>\n",
       "      <td>644</td>\n",
       "      <td>2018-11-15T03:34:21Z</td>\n",
       "      <td>2</td>\n",
       "      <td>0</td>\n",
       "    </tr>\n",
       "  </tbody>\n",
       "</table>\n",
       "</div>"
      ],
      "text/plain": [
       "         TransactionId         BatchId       AccountId       SubscriptionId  \\\n",
       "0  TransactionId_76871   BatchId_36123  AccountId_3957   SubscriptionId_887   \n",
       "1  TransactionId_73770   BatchId_15642  AccountId_4841  SubscriptionId_3829   \n",
       "2  TransactionId_26203   BatchId_53941  AccountId_4229   SubscriptionId_222   \n",
       "3    TransactionId_380  BatchId_102363   AccountId_648  SubscriptionId_2185   \n",
       "4  TransactionId_28195   BatchId_38780  AccountId_4841  SubscriptionId_3829   \n",
       "\n",
       "        CustomerId CurrencyCode  CountryCode    ProviderId     ProductId  \\\n",
       "0  CustomerId_4406          UGX          256  ProviderId_6  ProductId_10   \n",
       "1  CustomerId_4406          UGX          256  ProviderId_4   ProductId_6   \n",
       "2  CustomerId_4683          UGX          256  ProviderId_6   ProductId_1   \n",
       "3   CustomerId_988          UGX          256  ProviderId_1  ProductId_21   \n",
       "4   CustomerId_988          UGX          256  ProviderId_4   ProductId_6   \n",
       "\n",
       "      ProductCategory    ChannelId   Amount  Value  TransactionStartTime  \\\n",
       "0             airtime  ChannelId_3   1000.0   1000  2018-11-15T02:18:49Z   \n",
       "1  financial_services  ChannelId_2    -20.0     20  2018-11-15T02:19:08Z   \n",
       "2             airtime  ChannelId_3    500.0    500  2018-11-15T02:44:21Z   \n",
       "3        utility_bill  ChannelId_3  20000.0  21800  2018-11-15T03:32:55Z   \n",
       "4  financial_services  ChannelId_2   -644.0    644  2018-11-15T03:34:21Z   \n",
       "\n",
       "   PricingStrategy  FraudResult  \n",
       "0                2            0  \n",
       "1                2            0  \n",
       "2                2            0  \n",
       "3                2            0  \n",
       "4                2            0  "
      ]
     },
     "execution_count": 13,
     "metadata": {},
     "output_type": "execute_result"
    }
   ],
   "source": [
    "# Load the dataset\n",
    "os.chdir('../scripts')\n",
    "file_path='../Data/Credit_data.csv'\n",
    "data=read_csv_file(file_path)\n",
    "data.head(5)"
   ]
  },
  {
   "cell_type": "markdown",
   "metadata": {},
   "source": [
    "#\tOverview of the Data"
   ]
  },
  {
   "cell_type": "code",
   "execution_count": 14,
   "metadata": {},
   "outputs": [
    {
     "name": "stdout",
     "output_type": "stream",
     "text": [
      "Loading dataset from:               TransactionId         BatchId       AccountId  \\\n",
      "0       TransactionId_76871   BatchId_36123  AccountId_3957   \n",
      "1       TransactionId_73770   BatchId_15642  AccountId_4841   \n",
      "2       TransactionId_26203   BatchId_53941  AccountId_4229   \n",
      "3         TransactionId_380  BatchId_102363   AccountId_648   \n",
      "4       TransactionId_28195   BatchId_38780  AccountId_4841   \n",
      "...                     ...             ...             ...   \n",
      "95657   TransactionId_89881   BatchId_96668  AccountId_4841   \n",
      "95658   TransactionId_91597    BatchId_3503  AccountId_3439   \n",
      "95659   TransactionId_82501  BatchId_118602  AccountId_4841   \n",
      "95660  TransactionId_136354   BatchId_70924  AccountId_1346   \n",
      "95661   TransactionId_35670   BatchId_29317  AccountId_4841   \n",
      "\n",
      "            SubscriptionId       CustomerId CurrencyCode  CountryCode  \\\n",
      "0       SubscriptionId_887  CustomerId_4406          UGX          256   \n",
      "1      SubscriptionId_3829  CustomerId_4406          UGX          256   \n",
      "2       SubscriptionId_222  CustomerId_4683          UGX          256   \n",
      "3      SubscriptionId_2185   CustomerId_988          UGX          256   \n",
      "4      SubscriptionId_3829   CustomerId_988          UGX          256   \n",
      "...                    ...              ...          ...          ...   \n",
      "95657  SubscriptionId_3829  CustomerId_3078          UGX          256   \n",
      "95658  SubscriptionId_2643  CustomerId_3874          UGX          256   \n",
      "95659  SubscriptionId_3829  CustomerId_3874          UGX          256   \n",
      "95660   SubscriptionId_652  CustomerId_1709          UGX          256   \n",
      "95661  SubscriptionId_3829  CustomerId_1709          UGX          256   \n",
      "\n",
      "         ProviderId     ProductId     ProductCategory    ChannelId   Amount  \\\n",
      "0      ProviderId_6  ProductId_10             airtime  ChannelId_3   1000.0   \n",
      "1      ProviderId_4   ProductId_6  financial_services  ChannelId_2    -20.0   \n",
      "2      ProviderId_6   ProductId_1             airtime  ChannelId_3    500.0   \n",
      "3      ProviderId_1  ProductId_21        utility_bill  ChannelId_3  20000.0   \n",
      "4      ProviderId_4   ProductId_6  financial_services  ChannelId_2   -644.0   \n",
      "...             ...           ...                 ...          ...      ...   \n",
      "95657  ProviderId_4   ProductId_6  financial_services  ChannelId_2  -1000.0   \n",
      "95658  ProviderId_6  ProductId_10             airtime  ChannelId_3   1000.0   \n",
      "95659  ProviderId_4   ProductId_6  financial_services  ChannelId_2    -20.0   \n",
      "95660  ProviderId_6  ProductId_19                  tv  ChannelId_3   3000.0   \n",
      "95661  ProviderId_4   ProductId_6  financial_services  ChannelId_2    -60.0   \n",
      "\n",
      "       Value  TransactionStartTime  PricingStrategy  FraudResult  \n",
      "0       1000  2018-11-15T02:18:49Z                2            0  \n",
      "1         20  2018-11-15T02:19:08Z                2            0  \n",
      "2        500  2018-11-15T02:44:21Z                2            0  \n",
      "3      21800  2018-11-15T03:32:55Z                2            0  \n",
      "4        644  2018-11-15T03:34:21Z                2            0  \n",
      "...      ...                   ...              ...          ...  \n",
      "95657   1000  2019-02-13T09:54:09Z                2            0  \n",
      "95658   1000  2019-02-13T09:54:25Z                2            0  \n",
      "95659     20  2019-02-13T09:54:35Z                2            0  \n",
      "95660   3000  2019-02-13T10:01:10Z                2            0  \n",
      "95661     60  2019-02-13T10:01:28Z                2            0  \n",
      "\n",
      "[95662 rows x 16 columns]\n",
      "An error occurred: name 'load_dataset' is not defined\n"
     ]
    }
   ],
   "source": [
    "analyze_dataset(data)"
   ]
  },
  {
   "cell_type": "markdown",
   "metadata": {},
   "source": [
    "# Summary Statistics"
   ]
  },
  {
   "cell_type": "code",
   "execution_count": 15,
   "metadata": {},
   "outputs": [
    {
     "name": "stdout",
     "output_type": "stream",
     "text": [
      "\n",
      "Central Tendency of Numeric Columns:\n",
      "\n",
      "Column: CountryCode\n",
      "  Mean: 256.0\n",
      "  Median: 256.0\n",
      "  Mode: 256\n",
      "\n",
      "Column: Amount\n",
      "  Mean: 6717.846433275491\n",
      "  Median: 1000.0\n",
      "  Mode: 1000.0\n",
      "\n",
      "Column: Value\n",
      "  Mean: 9900.583941376932\n",
      "  Median: 1000.0\n",
      "  Mode: 1000\n",
      "\n",
      "Column: PricingStrategy\n",
      "  Mean: 2.25597415901821\n",
      "  Median: 2.0\n",
      "  Mode: 2\n",
      "\n",
      "Column: FraudResult\n",
      "  Mean: 0.00201752001839811\n",
      "  Median: 0.0\n",
      "  Mode: 0\n"
     ]
    }
   ],
   "source": [
    "# Calculate and display central tendency\n",
    "calculate_central_tendency(data)"
   ]
  },
  {
   "cell_type": "code",
   "execution_count": 16,
   "metadata": {},
   "outputs": [
    {
     "name": "stdout",
     "output_type": "stream",
     "text": [
      "\n",
      "Measures of Dispersion for Numeric Columns:\n",
      "\n",
      "Column: CountryCode\n",
      "  Variance: 0.0\n",
      "  Standard Deviation: 0.0\n",
      "  Range: 0\n",
      "  Interquartile Range (IQR): 0.0\n",
      "\n",
      "Column: Amount\n",
      "  Variance: 15204566226.927313\n",
      "  Standard Deviation: 123306.79716433848\n",
      "  Range: 10880000.0\n",
      "  Interquartile Range (IQR): 2850.0\n",
      "\n",
      "Column: Value\n",
      "  Variance: 15159048498.369589\n",
      "  Standard Deviation: 123122.08777619712\n",
      "  Range: 9879998\n",
      "  Interquartile Range (IQR): 4725.0\n",
      "\n",
      "Column: PricingStrategy\n",
      "  Variance: 0.5371777502652189\n",
      "  Standard Deviation: 0.7329241094855721\n",
      "  Range: 4\n",
      "  Interquartile Range (IQR): 0.0\n",
      "\n",
      "Column: FraudResult\n",
      "  Variance: 0.0020134706791320304\n",
      "  Standard Deviation: 0.04487171357472356\n",
      "  Range: 1\n",
      "  Interquartile Range (IQR): 0.0\n"
     ]
    }
   ],
   "source": [
    "# Calculate and display dispersion measures\n",
    "calculate_dispersion(data)\n"
   ]
  },
  {
   "cell_type": "code",
   "execution_count": 17,
   "metadata": {},
   "outputs": [
    {
     "name": "stdout",
     "output_type": "stream",
     "text": [
      "\n",
      "Shape of the Dataset's Distribution:\n",
      "\n",
      "Column: CountryCode\n",
      "  Skewness: nan (Positive: Right skewed, Negative: Left skewed, 0: Symmetrical)\n",
      "  Kurtosis: nan (Positive: Heavy tails, Negative: Light tails, 0: Normal)\n",
      "\n",
      "Column: Amount\n",
      "  Skewness: 51.0977 (Positive: Right skewed, Negative: Left skewed, 0: Symmetrical)\n",
      "  Kurtosis: 3362.9519 (Positive: Heavy tails, Negative: Light tails, 0: Normal)\n",
      "\n",
      "Column: Value\n",
      "  Skewness: 51.2903 (Positive: Right skewed, Negative: Left skewed, 0: Symmetrical)\n",
      "  Kurtosis: 3377.8927 (Positive: Heavy tails, Negative: Light tails, 0: Normal)\n",
      "\n",
      "Column: PricingStrategy\n",
      "  Skewness: 1.6590 (Positive: Right skewed, Negative: Left skewed, 0: Symmetrical)\n",
      "  Kurtosis: 2.0874 (Positive: Heavy tails, Negative: Light tails, 0: Normal)\n",
      "\n",
      "Column: FraudResult\n",
      "  Skewness: 22.1959 (Positive: Right skewed, Negative: Left skewed, 0: Symmetrical)\n",
      "  Kurtosis: 490.6601 (Positive: Heavy tails, Negative: Light tails, 0: Normal)\n"
     ]
    },
    {
     "name": "stderr",
     "output_type": "stream",
     "text": [
      "c:\\Users\\pc\\Desktop\\Week 6\\Project_Week_6\\scripts\\EDA.py:86: RuntimeWarning: Precision loss occurred in moment calculation due to catastrophic cancellation. This occurs when the data are nearly identical. Results may be unreliable.\n",
      "  column_skewness = skew(numeric_columns[column], nan_policy='omit')\n",
      "c:\\Users\\pc\\Desktop\\Week 6\\Project_Week_6\\scripts\\EDA.py:87: RuntimeWarning: Precision loss occurred in moment calculation due to catastrophic cancellation. This occurs when the data are nearly identical. Results may be unreliable.\n",
      "  column_kurtosis = kurtosis(numeric_columns[column], nan_policy='omit')\n"
     ]
    }
   ],
   "source": [
    "# Analyze the distribution shape\n",
    "analyze_distribution_shape(data)\n"
   ]
  },
  {
   "cell_type": "markdown",
   "metadata": {},
   "source": [
    "# Distribution of Numerical Features"
   ]
  },
  {
   "cell_type": "code",
   "execution_count": 18,
   "metadata": {},
   "outputs": [],
   "source": [
    "#numerical_col=['CountryCode']\n",
    "# Visualize distributions\n",
    "#visualize_distributions(data['CountryCode'])\n"
   ]
  },
  {
   "cell_type": "markdown",
   "metadata": {},
   "source": [
    "# Distribution of Categorical Features"
   ]
  },
  {
   "cell_type": "code",
   "execution_count": 8,
   "metadata": {},
   "outputs": [],
   "source": [
    "# Analyze categorical features\n",
    "#analyze_categorical_features(data)\n"
   ]
  },
  {
   "cell_type": "markdown",
   "metadata": {},
   "source": [
    "# Correlation Analysis"
   ]
  },
  {
   "cell_type": "code",
   "execution_count": 9,
   "metadata": {},
   "outputs": [
    {
     "name": "stdout",
     "output_type": "stream",
     "text": [
      "\n",
      "Correlation Matrix:\n",
      "                 CountryCode    Amount     Value  PricingStrategy  FraudResult\n",
      "CountryCode              NaN       NaN       NaN              NaN          NaN\n",
      "Amount                   NaN  1.000000  0.989692        -0.061931     0.557370\n",
      "Value                    NaN  0.989692  1.000000        -0.017020     0.566739\n",
      "PricingStrategy          NaN -0.061931 -0.017020         1.000000    -0.033821\n",
      "FraudResult              NaN  0.557370  0.566739        -0.033821     1.000000\n"
     ]
    },
    {
     "data": {
      "image/png": "[encoded data removed]",
      "text/plain": [
       "<Figure size 800x600 with 2 Axes>"
      ]
     },
     "metadata": {},
     "output_type": "display_data"
    }
   ],
   "source": [
    "# Perform correlation analysis\n",
    "correlation_analysis(data)\n"
   ]
  },
  {
   "cell_type": "markdown",
   "metadata": {},
   "source": [
    "# Missing Values"
   ]
  },
  {
   "cell_type": "code",
   "execution_count": 10,
   "metadata": {},
   "outputs": [
    {
     "name": "stdout",
     "output_type": "stream",
     "text": [
      "None\n"
     ]
    }
   ],
   "source": [
    "missing_value = check_missing_values(data)\n",
    "print(missing_value)"
   ]
  },
  {
   "cell_type": "code",
   "execution_count": null,
   "metadata": {},
   "outputs": [],
   "source": [
    "categorical_cols=['MaritalStatus','Gender','VehicleType', 'make', 'Model', 'bodytype','VehicleIntroDate','CapitalOutstanding']\n",
    "\n",
    "impute_categorical_missingValue_with_mode(data, categorical_cols) "
   ]
  },
  {
   "cell_type": "code",
   "execution_count": null,
   "metadata": {},
   "outputs": [],
   "source": [
    "# impute categorical columns missing values using Unknown placeholder\n",
    "\n",
    "categorical_cols2=['Bank','AccountType','WrittenOff', 'Rebuilt', 'Converted', 'CrossBorder']\n",
    "\n",
    "impute_categorical_missing_with_placeholder(df, categorical_cols2)"
   ]
  },
  {
   "cell_type": "markdown",
   "metadata": {},
   "source": [
    "# Outlier Detection"
   ]
  },
  {
   "cell_type": "code",
   "execution_count": null,
   "metadata": {},
   "outputs": [],
   "source": [
    "# Plot box plots for numerical features\n",
    "plot_boxplots(df)\n"
   ]
  },
  {
   "cell_type": "markdown",
   "metadata": {},
   "source": [
    "# Aggregate Features"
   ]
  },
  {
   "cell_type": "code",
   "execution_count": null,
   "metadata": {},
   "outputs": [],
   "source": [
    "# Total Transaction Amount\n",
    "\n",
    " # Calculate the sum of transactions for each customer\n",
    "customer_totals = sum_transactions_by_customer(df, 'CustomerID', 'TransactionAmount')\n",
    "\n",
    "# Display the result\n",
    "print(customer_totals)"
   ]
  },
  {
   "cell_type": "code",
   "execution_count": null,
   "metadata": {},
   "outputs": [],
   "source": [
    "# Average Transaction Amount\n",
    "\n",
    "# Calculate the average transaction amount for each customer\n",
    "customer_averages = average_transaction_by_customer(df, 'CustomerID', 'TransactionAmount')\n",
    "\n",
    "# Display the result\n",
    "print(customer_averages)"
   ]
  },
  {
   "cell_type": "code",
   "execution_count": null,
   "metadata": {},
   "outputs": [],
   "source": [
    "# Transaction Count\n",
    "\n",
    "# Calculate the average transaction amount for each customer\n",
    "customer_averages = average_transaction_by_customer(df, 'CustomerID', 'TransactionAmount')\n",
    "\n",
    "# Display the result\n",
    "print(customer_averages)"
   ]
  },
  {
   "cell_type": "code",
   "execution_count": null,
   "metadata": {},
   "outputs": [],
   "source": [
    "# Standard Deviation of Transaction Amounts\n",
    "\n",
    " # Calculate the standard deviation of transaction amounts for each customer\n",
    "transaction_std = transaction_std_by_customer(df, 'CustomerID', 'TransactionAmount')\n",
    "\n",
    "# Display the result\n",
    "print(transaction_std)"
   ]
  },
  {
   "cell_type": "markdown",
   "metadata": {},
   "source": [
    "# Extract Features"
   ]
  },
  {
   "cell_type": "code",
   "execution_count": null,
   "metadata": {},
   "outputs": [],
   "source": [
    "# Transaction Hour\n",
    "\n",
    " # Extract the hour of the day for each transaction\n",
    "df_with_hour = extract_transaction_hour(df, 'Timestamp')\n",
    "\n",
    "# Display the result\n",
    "print(df_with_hour)"
   ]
  },
  {
   "cell_type": "code",
   "execution_count": null,
   "metadata": {},
   "outputs": [],
   "source": [
    "# Transaction Day\n",
    "\n"
   ]
  },
  {
   "cell_type": "code",
   "execution_count": null,
   "metadata": {},
   "outputs": [],
   "source": [
    "# Transaction Month\n",
    "\n"
   ]
  },
  {
   "cell_type": "code",
   "execution_count": null,
   "metadata": {},
   "outputs": [],
   "source": [
    "# Transaction Year\n"
   ]
  },
  {
   "cell_type": "markdown",
   "metadata": {},
   "source": [
    "# Encode Categorical Variables"
   ]
  },
  {
   "cell_type": "code",
   "execution_count": null,
   "metadata": {},
   "outputs": [],
   "source": [
    "# One-Hot Encoding\n"
   ]
  },
  {
   "cell_type": "code",
   "execution_count": null,
   "metadata": {},
   "outputs": [],
   "source": [
    "# Label Encoding\n"
   ]
  },
  {
   "cell_type": "markdown",
   "metadata": {},
   "source": [
    "# Handle Missing Values"
   ]
  },
  {
   "cell_type": "code",
   "execution_count": null,
   "metadata": {},
   "outputs": [],
   "source": [
    "# Imputation\n"
   ]
  },
  {
   "cell_type": "code",
   "execution_count": null,
   "metadata": {},
   "outputs": [],
   "source": [
    "# Removal\n"
   ]
  },
  {
   "cell_type": "markdown",
   "metadata": {},
   "source": [
    "# Normalize/Standardize Numerical Features"
   ]
  },
  {
   "cell_type": "code",
   "execution_count": null,
   "metadata": {},
   "outputs": [],
   "source": [
    "# Normalization\n"
   ]
  },
  {
   "cell_type": "code",
   "execution_count": null,
   "metadata": {},
   "outputs": [],
   "source": [
    "# Standardization\n"
   ]
  },
  {
   "cell_type": "code",
   "execution_count": null,
   "metadata": {},
   "outputs": [],
   "source": []
  }
 ],
 "metadata": {
  "kernelspec": {
   "display_name": "Python 3",
   "language": "python",
   "name": "python3"
  },
  "language_info": {
   "codemirror_mode": {
    "name": "ipython",
    "version": 3
   },
   "file_extension": ".py",
   "mimetype": "text/x-python",
   "name": "python",
   "nbconvert_exporter": "python",
   "pygments_lexer": "ipython3",
   "version": "3.11.5"
  }
 },
 "nbformat": 4,
 "nbformat_minor": 2
}
